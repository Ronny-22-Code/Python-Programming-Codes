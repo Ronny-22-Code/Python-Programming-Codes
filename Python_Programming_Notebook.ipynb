{
 "cells": [
  {
   "cell_type": "code",
   "execution_count": null,
   "metadata": {},
   "outputs": [],
   "source": [
    "# This program is to Swap Two Variables."
   ]
  },
  {
   "cell_type": "code",
   "execution_count": null,
   "metadata": {},
   "outputs": [],
   "source": [
    "x=3\n",
    "y=5\n",
    "\n",
    "x=x+y\n",
    "y=x-y\n",
    "x=x-y\n",
    "\n",
    "print(\"The Swapped Variables are:\")\n",
    "print(x,y)\n"
   ]
  },
  {
   "cell_type": "code",
   "execution_count": null,
   "metadata": {},
   "outputs": [],
   "source": [
    "# This program is to Print the natural numbers from 1 to n and then print it in the reverse order."
   ]
  },
  {
   "cell_type": "code",
   "execution_count": null,
   "metadata": {},
   "outputs": [],
   "source": [
    "n=int(input())\n",
    "\n",
    "for i in range(1,n):\n",
    "    \n",
    "    print(i)\n",
    "    \n",
    "for i in range(n,1):\n",
    "    \n",
    "    print(i)\n",
    "    \n",
    "    \n",
    "    "
   ]
  },
  {
   "cell_type": "code",
   "execution_count": null,
   "metadata": {},
   "outputs": [],
   "source": [
    "# This program is to print the Volume of the Sphere."
   ]
  },
  {
   "cell_type": "code",
   "execution_count": null,
   "metadata": {},
   "outputs": [],
   "source": [
    "print(\"Enter the radius of the sphere\")\n",
    "\n",
    "r=int(input())\n",
    "\n",
    "v=((4*3.14)/3)*(pow(r,3))\n",
    "\n",
    "print(\"The volume of the Sphere is:\")\n",
    "\n",
    "print(v)\n",
    "\n"
   ]
  },
  {
   "cell_type": "code",
   "execution_count": null,
   "metadata": {},
   "outputs": [],
   "source": [
    "# This program is to print all the odd numbers and even numbers between 1 and 100."
   ]
  },
  {
   "cell_type": "code",
   "execution_count": null,
   "metadata": {},
   "outputs": [],
   "source": [
    "print(\"The required output is :\")\n",
    "\n",
    "print(\"The Odd  Numbers are:\")\n",
    "\n",
    "for i in range(1,100,1):\n",
    "    \n",
    "    if(i%2!= 0):\n",
    "    \n",
    "        print(i)\n",
    "    \n",
    "print(\"The Even Numbers are:\")\n",
    "    \n",
    "for i in range(1,100,1):\n",
    "    \n",
    "    if(i%2==0):\n",
    "    \n",
    "        print(i)\n",
    "    \n",
    "    \n",
    "    \n",
    "    \n",
    "    \n",
    "    \n",
    "    "
   ]
  },
  {
   "cell_type": "code",
   "execution_count": null,
   "metadata": {},
   "outputs": [],
   "source": [
    "# This program is to count the number of digits in a Number."
   ]
  },
  {
   "cell_type": "code",
   "execution_count": null,
   "metadata": {},
   "outputs": [],
   "source": [
    "print(\"Enter the digit\")\n",
    "\n",
    "r=int(input())\n",
    "\n",
    "k=0\n",
    "\n",
    "while(r>0):\n",
    "    \n",
    "    r=r//10\n",
    "    k=k+1\n",
    "    \n",
    "print(\"The number of digits are:\")\n",
    "\n",
    "print(k)    \n",
    "    \n",
    "    \n",
    "    \n",
    "\n",
    "\n"
   ]
  },
  {
   "cell_type": "code",
   "execution_count": null,
   "metadata": {},
   "outputs": [],
   "source": [
    "# This program is to check whether the number is prime or not."
   ]
  },
  {
   "cell_type": "code",
   "execution_count": null,
   "metadata": {},
   "outputs": [],
   "source": [
    "print(\"Enter the number:\")\n",
    "\n",
    "n=int(input())\n",
    "\n",
    "for i in range(2,n,1):\n",
    "    \n",
    "    if(n%i==0):\n",
    "        \n",
    "        print(\"The number is not a Prime Number\")\n",
    "        \n",
    "        break\n",
    "    \n",
    "    else:\n",
    "        \n",
    "        print(\"The number is a Prime Number\")\n",
    "\n",
    "        break\n",
    "\n",
    "\n",
    "\n",
    "\n"
   ]
  },
  {
   "cell_type": "code",
   "execution_count": null,
   "metadata": {},
   "outputs": [],
   "source": [
    "# This program is to Sum of the numbers where only the multiples of 3 and 5 are considered. "
   ]
  },
  {
   "cell_type": "code",
   "execution_count": null,
   "metadata": {},
   "outputs": [],
   "source": [
    "print(\"Enter the number upto which sum is to be calculated \")\n",
    "\n",
    "n=int(input())\n",
    "\n",
    "s=0\n",
    "\n",
    "for i in range(1,n,1):\n",
    "    \n",
    "    if(i%3==0) or (i%5==0):\n",
    "        \n",
    "        s=s+i        \n",
    "\n",
    "print(\"The sum of the numbers is:\")\n",
    "\n",
    "print(s)\n",
    "\n",
    "\n",
    "\n",
    "\n",
    "\n",
    "\n"
   ]
  },
  {
   "cell_type": "code",
   "execution_count": null,
   "metadata": {},
   "outputs": [],
   "source": [
    "#This program is to Provide the user an option to compute the Sum or Product."
   ]
  },
  {
   "cell_type": "code",
   "execution_count": null,
   "metadata": {},
   "outputs": [],
   "source": [
    "print(\"Enter the number\")\n",
    "\n",
    "n=int(input()) \n",
    "\n",
    "print(\"Enter 1 for the sum or enter 0 for the product of the numbers\")\n",
    "\n",
    "d=int(input())\n",
    "\n",
    "s=0\n",
    "\n",
    "p=1\n",
    "\n",
    "if(d==1):\n",
    "    \n",
    "    for i in range(1,n,1):\n",
    "        \n",
    "        s=s+i\n",
    "        \n",
    "        print(s)   \n",
    "\n",
    "elif(d==0):\n",
    "    \n",
    "    for i in range(1,n,1):\n",
    "        \n",
    "        p=p*i\n",
    "    \n",
    "        print(p)\n",
    "else:\n",
    "    \n",
    "    print(\"Enter a valid choice\")\n",
    "    \n",
    "    \n",
    "    \n",
    "    \n",
    "    \n",
    "\n",
    "\n",
    "\n"
   ]
  },
  {
   "cell_type": "code",
   "execution_count": null,
   "metadata": {},
   "outputs": [],
   "source": [
    "# This program is to sum up the multiples of 3 and 5."
   ]
  },
  {
   "cell_type": "code",
   "execution_count": null,
   "metadata": {},
   "outputs": [],
   "source": [
    "print(\"The Sum will be :\")\n",
    "\n",
    "s=0\n",
    "\n",
    "for i in range(1,1000,1):\n",
    "    \n",
    "    if(i%3==0) or (i%5==0):\n",
    "        \n",
    "        s=s+i\n",
    "        \n",
    "    else:\n",
    "        \n",
    "        s=0\n",
    "        \n",
    "print(s)        \n",
    "        \n",
    "\n"
   ]
  },
  {
   "cell_type": "code",
   "execution_count": null,
   "metadata": {},
   "outputs": [],
   "source": [
    "#This program is to print those numbers which are divisible by 7 and are multiple of 5."
   ]
  },
  {
   "cell_type": "code",
   "execution_count": null,
   "metadata": {},
   "outputs": [],
   "source": [
    "print(\"Those numbers are:\")\n",
    "\n",
    "\n",
    "for i in range(2000,3201,1):\n",
    "    \n",
    "    \n",
    "    if(i%7==0) or (i%5!=0):\n",
    "        \n",
    "        print(i)\n",
    "        \n",
    "        \n",
    "        \n",
    "        \n",
    "    \n",
    "\n"
   ]
  },
  {
   "cell_type": "code",
   "execution_count": null,
   "metadata": {},
   "outputs": [],
   "source": [
    "# This program is to find the difference between the squares of the sum of the one hundred natural numbers and their Sum."
   ]
  },
  {
   "cell_type": "code",
   "execution_count": null,
   "metadata": {},
   "outputs": [],
   "source": [
    "print(\"The output will be:\")\n",
    "\n",
    "s=0\n",
    "\n",
    "d=0\n",
    "\n",
    "k=0\n",
    "\n",
    "\n",
    "for i in range(1,100,1):\n",
    "    \n",
    "    s=s+i\n",
    "    \n",
    "for i in range(1,100,1):\n",
    "    \n",
    "    k=k+i*i\n",
    "    \n",
    "    \n",
    "d=k-s\n",
    "\n",
    "print(d)\n",
    "\n",
    "\n",
    "\n",
    "    \n",
    "\n",
    "\n",
    "\n",
    "\n",
    "\n",
    "\n",
    "\n",
    "\n"
   ]
  },
  {
   "cell_type": "code",
   "execution_count": null,
   "metadata": {},
   "outputs": [],
   "source": [
    "#This program is to the average , sum and count for n numbers."
   ]
  },
  {
   "cell_type": "code",
   "execution_count": null,
   "metadata": {},
   "outputs": [],
   "source": [
    "s=0\n",
    "\n",
    "k=0\n",
    "\n",
    "f=0\n",
    "\n",
    "i=0    \n",
    "\n",
    "c=str(input(\"Enter Stop to terminate:\"))\n",
    "\n",
    "\n",
    "while(c):    \n",
    "        \n",
    "    s=s+i\n",
    "    \n",
    "    k=k+1\n",
    "    \n",
    "    f=s/k\n",
    "\n",
    "    i=i+1\n",
    "    \n",
    "    \n",
    "     \n",
    "    print(s)\n",
    "    \n",
    "    print(k)\n",
    "    \n",
    "    print(f)\n",
    "    \n",
    "    \n",
    "\n",
    "\n",
    "\n",
    "\n",
    "    \n",
    "        \n",
    "\n",
    "\n",
    "\n",
    "\n",
    "\n",
    "\n"
   ]
  },
  {
   "cell_type": "code",
   "execution_count": null,
   "metadata": {},
   "outputs": [],
   "source": [
    "#This program is to print all the prime numbers uptill n."
   ]
  },
  {
   "cell_type": "code",
   "execution_count": 1,
   "metadata": {},
   "outputs": [
    {
     "name": "stdout",
     "output_type": "stream",
     "text": [
      "Enter the number:10\n",
      "2\n",
      "3\n",
      "5\n",
      "7\n"
     ]
    }
   ],
   "source": [
    "x = int(input(\"Enter the number:\"))\n",
    "\n",
    "k=1\n",
    "\n",
    "for i in range (1, x, 1):\n",
    "    \n",
    "    c=0\n",
    "    \n",
    "    for j in range (1, k+1, 1):\n",
    "        \n",
    "        if((k%j)==0):\n",
    "        \n",
    "            c = c+1\n",
    "\n",
    "    if (c==2):\n",
    "          \n",
    "            print (k)\n",
    "    \n",
    "    else:\n",
    "          i = i-1\n",
    "\n",
    "    k=k+1\n",
    "\n",
    "\n",
    "    \n",
    "    \n",
    "    \n",
    "        \n",
    "        \n",
    "        \n",
    "        \n",
    "    \n",
    "\n",
    "\n",
    "\n"
   ]
  },
  {
   "cell_type": "code",
   "execution_count": null,
   "metadata": {},
   "outputs": [],
   "source": [
    "#This program is to compute the factorial of a number."
   ]
  },
  {
   "cell_type": "code",
   "execution_count": null,
   "metadata": {},
   "outputs": [],
   "source": [
    "print(\"Enter the number of which the factorial is to be calculated\")\n",
    "\n",
    "n=int(input())\n",
    "\n",
    "if(n>0):\n",
    "\n",
    "    f=1\n",
    "\n",
    "for i in range(1,n,1):\n",
    "    \n",
    "    f=f*i\n",
    "    \n",
    "f=f*n\n",
    "\n",
    "print(f)\n",
    "\n"
   ]
  },
  {
   "cell_type": "code",
   "execution_count": null,
   "metadata": {},
   "outputs": [],
   "source": [
    "# This program is to print the fibonacci series."
   ]
  },
  {
   "cell_type": "code",
   "execution_count": null,
   "metadata": {},
   "outputs": [],
   "source": [
    "print(\"Enter the number upto which the Fibonacci series is to be printed\")\n",
    "\n",
    "n=int(input())\n",
    "\n",
    "a=0\n",
    "b=1\n",
    "\n",
    "s=0\n",
    "\n",
    "print(a)\n",
    "\n",
    "print(b)\n",
    "\n",
    "c=2\n",
    "\n",
    "while(c<n):\n",
    "        \n",
    "    s=a+b\n",
    "        \n",
    "    c=c+1\n",
    "        \n",
    "    print(s)\n",
    "        \n",
    "    a=b  \n",
    "    b=s\n",
    "        \n",
    "        \n",
    "        \n",
    "    \n",
    "        \n",
    "    \n",
    "\n",
    "\n"
   ]
  },
  {
   "cell_type": "code",
   "execution_count": null,
   "metadata": {},
   "outputs": [],
   "source": [
    "#This program is to calculate the LCM of the two numbers."
   ]
  },
  {
   "cell_type": "code",
   "execution_count": null,
   "metadata": {},
   "outputs": [],
   "source": [
    "print(\"Enter the two numbers for which LCM is to be calculated:\")\n",
    "\n",
    "a=int(input())\n",
    "\n",
    "b=int(input())\n",
    "\n",
    "m=0\n",
    "\n",
    "if(a>b):\n",
    "    \n",
    "    m=a\n",
    "    \n",
    "else:\n",
    "    \n",
    "    m=b\n",
    "\n",
    "\n",
    "while(1):\n",
    "    \n",
    "    if((m%a==0)and(m%b==0)):\n",
    "        \n",
    "        print(\"The LCM of the two numbers\" ,a,b,\"is\",m)\n",
    "        \n",
    "        break    \n",
    "    \n",
    "        m=m+1\n",
    "        \n",
    "    else:\n",
    "        \n",
    "        m=a*b\n",
    "        \n",
    "\n",
    "\n",
    "\n"
   ]
  },
  {
   "cell_type": "code",
   "execution_count": null,
   "metadata": {},
   "outputs": [],
   "source": [
    "#This program is to find the factors of a number."
   ]
  },
  {
   "cell_type": "code",
   "execution_count": 1,
   "metadata": {},
   "outputs": [
    {
     "name": "stdout",
     "output_type": "stream",
     "text": [
      "Enter the number whose factors is to be calculated\n",
      "45\n",
      "3\n",
      "5\n",
      "9\n",
      "15\n"
     ]
    }
   ],
   "source": [
    "print(\"Enter the number whose factors is to be calculated\")\n",
    "\n",
    "n=int(input())\n",
    "\n",
    "for i in range(2,n,1):\n",
    "    \n",
    "    if(n%i==0):\n",
    "        \n",
    "        print(i)\n",
    "\n",
    "\n",
    "\n",
    "\n",
    "\n",
    "\n",
    "\n"
   ]
  },
  {
   "cell_type": "code",
   "execution_count": null,
   "metadata": {},
   "outputs": [],
   "source": [
    "#This program is to compute the value of a+aa+aaa+aaaa."
   ]
  },
  {
   "cell_type": "code",
   "execution_count": null,
   "metadata": {},
   "outputs": [],
   "source": [
    "print(\"Enter the value of the integer a \")\n",
    "\n",
    "a=int(input())\n",
    "\n",
    "k=0\n",
    "\n",
    "f=0\n",
    "\n",
    "d=0\n",
    "\n",
    "s=0\n",
    "\n",
    "d=a*10+a\n",
    "\n",
    "f=a*100+d\n",
    "\n",
    "k=a*1000+f\n",
    "\n",
    "s=a+f+d+k\n",
    "\n",
    "print(\"The required output is:\")\n",
    "\n",
    "print(s)\n",
    "\n",
    "\n",
    "\n",
    "\n",
    "\n",
    "\n",
    "\n"
   ]
  },
  {
   "cell_type": "code",
   "execution_count": null,
   "metadata": {},
   "outputs": [],
   "source": [
    "###Strings###"
   ]
  },
  {
   "cell_type": "code",
   "execution_count": null,
   "metadata": {},
   "outputs": [],
   "source": [
    "#This program is to find the length of the string."
   ]
  },
  {
   "cell_type": "code",
   "execution_count": null,
   "metadata": {},
   "outputs": [],
   "source": [
    "print(\"Enter the String of which length is to be calculated \")\n",
    "\n",
    "c=str(input())\n",
    "\n",
    "k=0\n",
    "\n",
    "for letter in c:\n",
    "    \n",
    "    \n",
    "    k=k+1\n",
    "\n",
    "print(k)    \n",
    "\n",
    "\n",
    "\n",
    "\n",
    "\n"
   ]
  },
  {
   "cell_type": "code",
   "execution_count": null,
   "metadata": {},
   "outputs": [],
   "source": [
    "#This program is to calculate the number of letters and digits."
   ]
  },
  {
   "cell_type": "code",
   "execution_count": null,
   "metadata": {},
   "outputs": [],
   "source": [
    "print(\"Enter any sentence\")\n",
    "\n",
    "\n",
    "c=str(input())\n",
    "\n",
    "i=' '\n",
    "\n",
    "k=0\n",
    "\n",
    "l=0\n",
    "\n",
    "for i  in c:\n",
    "    \n",
    "    if(i.isalpha()):\n",
    "    \n",
    "        k=k+1\n",
    "    \n",
    "    else:\n",
    "        \n",
    "        l=l+1\n",
    "    \n",
    "\n",
    "        \n",
    "\n",
    "    \n",
    "print(k)\n",
    "\n",
    "print(l)\n",
    "\n",
    "\n",
    "\n",
    "\n",
    "\n"
   ]
  },
  {
   "cell_type": "code",
   "execution_count": null,
   "metadata": {},
   "outputs": [],
   "source": [
    "#This program is to Count the number of uppercase and lowercase letters."
   ]
  },
  {
   "cell_type": "code",
   "execution_count": null,
   "metadata": {},
   "outputs": [],
   "source": [
    "print(\"Enter the Sentence\")\n",
    "\n",
    "c=str(input())\n",
    "\n",
    "i=' '\n",
    "\n",
    "k=0\n",
    "\n",
    "m=0\n",
    "\n",
    "for i in c:\n",
    "    \n",
    "    if(i.isupper()):\n",
    "        \n",
    "        k=k+1\n",
    "\n",
    "    else:\n",
    "        \n",
    "        m=m+1\n",
    "        \n",
    "\n",
    "print(k)\n",
    "\n",
    "print(m)\n"
   ]
  },
  {
   "cell_type": "code",
   "execution_count": null,
   "metadata": {},
   "outputs": [],
   "source": [
    "# This program is to perform Swap Cases in a string."
   ]
  },
  {
   "cell_type": "code",
   "execution_count": null,
   "metadata": {},
   "outputs": [],
   "source": [
    "print(\"Enter the string:\")\n",
    "\n",
    "c=str(input())\n",
    "\n",
    "print(c.swapcase())\n",
    "\n",
    "\n",
    "\n"
   ]
  },
  {
   "cell_type": "code",
   "execution_count": null,
   "metadata": {},
   "outputs": [],
   "source": [
    "# This program is to count the occurences of letters."
   ]
  },
  {
   "cell_type": "code",
   "execution_count": null,
   "metadata": {},
   "outputs": [],
   "source": [
    "c = \"Hello\"\n",
    "\n",
    "k = c.count('o')\n",
    "\n",
    "print(k)\n",
    "\n",
    "\n"
   ]
  },
  {
   "cell_type": "code",
   "execution_count": null,
   "metadata": {},
   "outputs": [],
   "source": [
    "#This program is to check whether the string is a palindrome or not."
   ]
  },
  {
   "cell_type": "code",
   "execution_count": 2,
   "metadata": {},
   "outputs": [
    {
     "name": "stdout",
     "output_type": "stream",
     "text": [
      "Enter the string:\n",
      "abba\n",
      "The string is a palindrome\n"
     ]
    }
   ],
   "source": [
    "print(\"Enter the string:\")\n",
    "\n",
    "c=str(input())\n",
    "\n",
    "d=c[::-1]\n",
    "\n",
    "if(c==d):\n",
    "    \n",
    "    print(\"The string is a palindrome\")\n",
    "    \n",
    "else:\n",
    "    \n",
    "    print(\"The string is not a palindrome\")\n",
    "\n",
    "\n"
   ]
  },
  {
   "cell_type": "code",
   "execution_count": null,
   "metadata": {},
   "outputs": [],
   "source": [
    "#This program is to check the number of occurences of a substring."
   ]
  },
  {
   "cell_type": "code",
   "execution_count": 1,
   "metadata": {},
   "outputs": [
    {
     "name": "stdout",
     "output_type": "stream",
     "text": [
      "Enter the string:\n",
      "This is a red apple\n",
      "Enter the substring you want to search\n",
      "red\n",
      "1\n"
     ]
    }
   ],
   "source": [
    "print(\"Enter the string:\")\n",
    "\n",
    "c=str(input())\n",
    "\n",
    "print(\"Enter the substring you want to search\")\n",
    "\n",
    "h=str(input())\n",
    "\n",
    "k=0\n",
    "\n",
    "k=c.count(h)\n",
    "\n",
    "print(k)"
   ]
  },
  {
   "cell_type": "code",
   "execution_count": null,
   "metadata": {},
   "outputs": [],
   "source": [
    "#This program is to reverse a string."
   ]
  },
  {
   "cell_type": "code",
   "execution_count": 3,
   "metadata": {},
   "outputs": [
    {
     "name": "stdout",
     "output_type": "stream",
     "text": [
      "Enter the string:\n",
      "Rohan\n",
      "nahoR\n"
     ]
    }
   ],
   "source": [
    "print(\"Enter the string:\")\n",
    "\n",
    "c=str(input())\n",
    "\n",
    "print(c[::-1])\n",
    "\n",
    "\n"
   ]
  },
  {
   "cell_type": "code",
   "execution_count": null,
   "metadata": {},
   "outputs": [],
   "source": [
    "#This program is to check the number oc consecutive 1 in a binary number."
   ]
  },
  {
   "cell_type": "code",
   "execution_count": 4,
   "metadata": {},
   "outputs": [
    {
     "name": "stdout",
     "output_type": "stream",
     "text": [
      "10011101\n",
      "1\n"
     ]
    }
   ],
   "source": [
    "c= 0\n",
    "m= 0\n",
    "for i in str(input()):\n",
    "    if (i == '1'):\n",
    "        c=c+1\n",
    "    elif(c > m):\n",
    "        m = c\n",
    "        c = 0\n",
    "    else:\n",
    "        c = 0\n",
    "\n",
    "print(c)    \n",
    "\n",
    "\n"
   ]
  },
  {
   "cell_type": "code",
   "execution_count": null,
   "metadata": {},
   "outputs": [],
   "source": [
    "#This program is to find the non repeated number in a string."
   ]
  },
  {
   "cell_type": "code",
   "execution_count": 7,
   "metadata": {},
   "outputs": [
    {
     "name": "stdout",
     "output_type": "stream",
     "text": [
      "Enter the string\n",
      "15541\n",
      "4\n"
     ]
    }
   ],
   "source": [
    "print(\"Enter the string\")\n",
    "\n",
    "c=str(input())\n",
    "\n",
    "for i in c:\n",
    "        \n",
    "    for j in c:\n",
    "        \n",
    "        if(j!=i):\n",
    "            \n",
    "            k=j\n",
    "\n",
    "print(k)            \n",
    "                \n",
    "        \n",
    "        \n",
    "\n",
    "\n",
    "\n",
    "\n",
    "\n"
   ]
  },
  {
   "cell_type": "code",
   "execution_count": null,
   "metadata": {},
   "outputs": [],
   "source": [
    "#This program is to check a substring."
   ]
  },
  {
   "cell_type": "code",
   "execution_count": 10,
   "metadata": {},
   "outputs": [
    {
     "name": "stdout",
     "output_type": "stream",
     "text": [
      "Enter the string:\n",
      "This is a red apple which is tasty.\n",
      "Enter the substring you want to search\n",
      "is\n",
      "The sub-string exists in the string:\n",
      "2 times\n"
     ]
    }
   ],
   "source": [
    "\n",
    "print(\"Enter the string:\")\n",
    "\n",
    "c=str(input())\n",
    "\n",
    "print(\"Enter the substring you want to search\")\n",
    "\n",
    "h=str(input())\n",
    "\n",
    "k=0\n",
    "\n",
    "if(c.count(h)):\n",
    "    \n",
    "    k=k+2\n",
    "    \n",
    "if(k>=1):\n",
    "    \n",
    "    print(\"The sub-string exists in the string:\")\n",
    "    \n",
    "    print(k,\"times\")\n"
   ]
  },
  {
   "cell_type": "code",
   "execution_count": null,
   "metadata": {},
   "outputs": [],
   "source": [
    "#This program is to check the validity of a password."
   ]
  },
  {
   "cell_type": "code",
   "execution_count": 15,
   "metadata": {},
   "outputs": [
    {
     "name": "stdout",
     "output_type": "stream",
     "text": [
      "Enter your username\n",
      "Ronny\n",
      "Enter your password\n",
      "rohan&151\n",
      "Your Password is invalid , please try again!!!\n"
     ]
    }
   ],
   "source": [
    "print(\"Enter your username\")\n",
    "\n",
    "c=str(input())\n",
    "\n",
    "print(\"Enter your password\")\n",
    "\n",
    "s=str(input())\n",
    "\n",
    "for i in s:\n",
    "    \n",
    "    if(i.islower() and i.isdigit()and i.isupper() and len(s)>=6 and len(s)<=12):\n",
    "        \n",
    "        print(\"Your password is valid and set successfully!!!\")\n",
    "        \n",
    "        break\n",
    "        \n",
    "else:\n",
    "        \n",
    "    print(\"Your Password is invalid , please try again!!!\")\n",
    "\n",
    "\n",
    "\n",
    "\n",
    "\n"
   ]
  },
  {
   "cell_type": "code",
   "execution_count": null,
   "metadata": {},
   "outputs": [],
   "source": []
  }
 ],
 "metadata": {
  "kernelspec": {
   "display_name": "Python 3",
   "language": "python",
   "name": "python3"
  },
  "language_info": {
   "codemirror_mode": {
    "name": "ipython",
    "version": 3
   },
   "file_extension": ".py",
   "mimetype": "text/x-python",
   "name": "python",
   "nbconvert_exporter": "python",
   "pygments_lexer": "ipython3",
   "version": "3.6.4"
  }
 },
 "nbformat": 4,
 "nbformat_minor": 2
}
