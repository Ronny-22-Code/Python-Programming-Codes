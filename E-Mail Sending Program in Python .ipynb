{
 "cells": [
  {
   "cell_type": "code",
   "execution_count": 29,
   "metadata": {},
   "outputs": [],
   "source": [
    "import smtplib as sm\n"
   ]
  },
  {
   "cell_type": "code",
   "execution_count": 35,
   "metadata": {},
   "outputs": [
    {
     "name": "stdout",
     "output_type": "stream",
     "text": [
      "Enter the Password of your mail id:rohan@$151\n"
     ]
    },
    {
     "data": {
      "text/plain": [
       "(221, b'2.0.0 Service closing transmission channel')"
      ]
     },
     "execution_count": 35,
     "metadata": {},
     "output_type": "execute_result"
    }
   ],
   "source": [
    "connection = sm.SMTP(\"smtp.outlook.com\",587) #Smtp to be used by the sender.\n",
    "connection.ehlo() #Used for the connection to the server.\n",
    "connection.starttls() #Used for encryption of the data.\n",
    "\n",
    "s=[]\n",
    "\n",
    "g = input(\"Enter the Password of your mail id:\")\n",
    "\n",
    "s=g.split()  \n",
    "\n",
    "connection.login(\"ronny22swag@outlook.com\",g)\n",
    "connection.sendmail(\"ronny22swag@outlook.com\",\"ronny22swag@outlook.com\",\"YO YO mail sent through Python Coding\")\n",
    "connection.quit()\n",
    "\n"
   ]
  },
  {
   "cell_type": "code",
   "execution_count": null,
   "metadata": {},
   "outputs": [],
   "source": [
    "\n",
    "\n",
    "\n",
    "\n",
    "\n",
    "\n",
    "\n",
    "\n",
    "\n"
   ]
  }
 ],
 "metadata": {
  "kernelspec": {
   "display_name": "Python 3",
   "language": "python",
   "name": "python3"
  },
  "language_info": {
   "codemirror_mode": {
    "name": "ipython",
    "version": 3
   },
   "file_extension": ".py",
   "mimetype": "text/x-python",
   "name": "python",
   "nbconvert_exporter": "python",
   "pygments_lexer": "ipython3",
   "version": "3.7.0"
  }
 },
 "nbformat": 4,
 "nbformat_minor": 2
}
