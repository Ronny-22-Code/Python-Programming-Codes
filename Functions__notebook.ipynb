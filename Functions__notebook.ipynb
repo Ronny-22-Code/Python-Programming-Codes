{
 "cells": [
  {
   "cell_type": "code",
   "execution_count": null,
   "metadata": {},
   "outputs": [],
   "source": [
    "#These programs are coded using functions in python."
   ]
  },
  {
   "cell_type": "code",
   "execution_count": null,
   "metadata": {},
   "outputs": [],
   "source": [
    "#This program is to return x raised to the power y."
   ]
  },
  {
   "cell_type": "code",
   "execution_count": null,
   "metadata": {},
   "outputs": [],
   "source": [
    "def rp(x,y):\n",
    "    \n",
    "    return(pow(x,y))\n",
    "\n",
    " \n",
    "print(\"Enter the value of the base:\")\n",
    "\n",
    "a=int(input())\n",
    "    \n",
    "print(\"Enter the value of the mantissa:\")\n",
    "\n",
    "b=int(input())\n",
    "    \n",
    "rp(a,b)    \n",
    "    \n",
    "    \n",
    "    \n",
    "    \n",
    "    \n",
    "    "
   ]
  },
  {
   "cell_type": "code",
   "execution_count": null,
   "metadata": {},
   "outputs": [],
   "source": [
    "#This program is to concatenate the two strings and return the concatenated."
   ]
  },
  {
   "cell_type": "code",
   "execution_count": null,
   "metadata": {},
   "outputs": [],
   "source": [
    "def con(x='Hello', y='World'):\n",
    "    \n",
    "    return(x+y)\n",
    "\n",
    "print(\"Enter the first string:\")\n",
    "\n",
    "c=str(input())\n",
    "\n",
    "print(\"Enter the second string:\")\n",
    "\n",
    "d=str(input())\n",
    "\n",
    "con(c,d)\n",
    "    \n",
    "    \n",
    "    \n",
    "\n",
    "\n",
    "\n",
    "\n"
   ]
  },
  {
   "cell_type": "code",
   "execution_count": null,
   "metadata": {},
   "outputs": [],
   "source": [
    "#This program is to return a bool value if a number is even or not."
   ]
  },
  {
   "cell_type": "code",
   "execution_count": null,
   "metadata": {},
   "outputs": [],
   "source": [
    "def boo(x):\n",
    "    \n",
    "    if(x%2==0):\n",
    "        \n",
    "        return True\n",
    "    \n",
    "    else:\n",
    "        \n",
    "        return False\n",
    "    \n",
    "print(\"Enter the value\")\n",
    "\n",
    "n=int(input())\n",
    "\n",
    "boo(n)\n",
    "\n",
    "\n"
   ]
  },
  {
   "cell_type": "code",
   "execution_count": null,
   "metadata": {},
   "outputs": [],
   "source": [
    "#This program is to return a bool value if the number is prime or not."
   ]
  },
  {
   "cell_type": "code",
   "execution_count": null,
   "metadata": {},
   "outputs": [],
   "source": [
    "def priboo(x):\n",
    "    \n",
    "    for i in range(2,x,1):\n",
    "        \n",
    "        if(x%i==0):\n",
    "            \n",
    "            return False\n",
    "        else:\n",
    "            \n",
    "            return True\n",
    "\n",
    "\n",
    "print(\"Enter any number to check\")\n",
    "\n",
    "n=int(input())\n",
    "\n",
    "priboo(n)\n",
    "        \n",
    "        \n",
    "        \n",
    "        \n",
    "        \n",
    "        \n",
    "        \n",
    "        \n",
    "        \n",
    "        \n",
    "        \n",
    "        "
   ]
  },
  {
   "cell_type": "code",
   "execution_count": null,
   "metadata": {},
   "outputs": [],
   "source": [
    "#This program is to return a boolean value if the number is a palindrome."
   ]
  },
  {
   "cell_type": "code",
   "execution_count": 3,
   "metadata": {},
   "outputs": [
    {
     "name": "stdout",
     "output_type": "stream",
     "text": [
      "Enter the number\n",
      "1335\n"
     ]
    },
    {
     "data": {
      "text/plain": [
       "False"
      ]
     },
     "execution_count": 3,
     "metadata": {},
     "output_type": "execute_result"
    }
   ],
   "source": [
    "def palboo(x):\n",
    "    \n",
    "    b=x\n",
    "    \n",
    "    r=0\n",
    "    \n",
    "    d=x%10\n",
    "    \n",
    "    r=r+d\n",
    "    \n",
    "    x=x//10\n",
    "    \n",
    "    if(b==r):\n",
    "        \n",
    "        return True\n",
    "        \n",
    "    else:\n",
    "        \n",
    "        return False\n",
    "    \n",
    "    \n",
    "print(\"Enter anything\")\n",
    "\n",
    "a=int(input())\n",
    "\n",
    "\n",
    "palboo(a)    \n",
    "\n",
    "\n",
    "\n",
    "\n",
    "\n",
    "\n",
    "\n",
    "\n",
    "\n",
    "\n"
   ]
  },
  {
   "cell_type": "code",
   "execution_count": null,
   "metadata": {},
   "outputs": [],
   "source": [
    "#This program is to count the number of words in the string."
   ]
  },
  {
   "cell_type": "code",
   "execution_count": 10,
   "metadata": {},
   "outputs": [
    {
     "name": "stdout",
     "output_type": "stream",
     "text": [
      "Enter the string:\n",
      "Rohan\n",
      "0\n"
     ]
    }
   ],
   "source": [
    "def wordcount(x):\n",
    "    \n",
    "    l=0\n",
    "    \n",
    "    k=0\n",
    "    \n",
    "    l=len(x)\n",
    "    \n",
    "    for i in  range(1,l,1):\n",
    "        \n",
    "        if(i==' '):\n",
    "            \n",
    "            k=k+1\n",
    "            \n",
    "        print(k)\n",
    "        \n",
    "        break\n",
    "\n",
    "   \n",
    "\n",
    "        \n",
    "print(\"Enter the string:\")\n",
    "\n",
    "c=str(input())\n",
    "\n",
    "wordcount(c)\n"
   ]
  },
  {
   "cell_type": "code",
   "execution_count": null,
   "metadata": {},
   "outputs": [],
   "source": []
  },
  {
   "cell_type": "code",
   "execution_count": null,
   "metadata": {},
   "outputs": [],
   "source": []
  }
 ],
 "metadata": {
  "kernelspec": {
   "display_name": "Python 3",
   "language": "python",
   "name": "python3"
  },
  "language_info": {
   "codemirror_mode": {
    "name": "ipython",
    "version": 3
   },
   "file_extension": ".py",
   "mimetype": "text/x-python",
   "name": "python",
   "nbconvert_exporter": "python",
   "pygments_lexer": "ipython3",
   "version": "3.6.5"
  }
 },
 "nbformat": 4,
 "nbformat_minor": 2
}
