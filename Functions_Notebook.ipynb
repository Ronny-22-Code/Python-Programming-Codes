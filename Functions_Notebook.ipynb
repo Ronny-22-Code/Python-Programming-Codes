{
 "cells": [
  {
   "cell_type": "code",
   "execution_count": null,
   "metadata": {},
   "outputs": [],
   "source": [
    "#This program is to print the series 3n+2."
   ]
  },
  {
   "cell_type": "code",
   "execution_count": 9,
   "metadata": {},
   "outputs": [
    {
     "name": "stdout",
     "output_type": "stream",
     "text": [
      "Enter the value of N1:\n",
      "10\n",
      "Enter the value of N2:\n",
      "4\n",
      "5\n",
      "11\n",
      "14\n",
      "17\n",
      "23\n",
      "26\n",
      "29\n"
     ]
    }
   ],
   "source": [
    "def series(x,y):\n",
    "    \n",
    "    i=0\n",
    "    \n",
    "    for i in range(1,x,1):\n",
    "    \n",
    "        d=3*i+2\n",
    "            \n",
    "        if(d%y!=0):\n",
    "            \n",
    "            print(d)\n",
    "\n",
    "        \n",
    "print(\"Enter the value of N1:\")\n",
    "\n",
    "a=int(input())\n",
    "\n",
    "print(\"Enter the value of N2:\")\n",
    "\n",
    "b=int(input())\n",
    "\n",
    "series(a,b)\n"
   ]
  },
  {
   "cell_type": "code",
   "execution_count": null,
   "metadata": {},
   "outputs": [],
   "source": [
    "#This program is to calculate the number of words in the string."
   ]
  },
  {
   "cell_type": "code",
   "execution_count": 19,
   "metadata": {},
   "outputs": [
    {
     "name": "stdout",
     "output_type": "stream",
     "text": [
      "Enter the string:\n",
      "Rohan is a boy\n",
      "Number of words in the string:\n",
      "4\n"
     ]
    }
   ],
   "source": [
    "def WordCount(s):\n",
    "\n",
    "    w=1\n",
    "\n",
    "    for i in string:\n",
    "      \n",
    "        if(i==' '):\n",
    "        \n",
    "            w=w+1\n",
    "\n",
    "    print(\"Number of words in the string:\")\n",
    "\n",
    "    print(w)\n",
    "\n",
    "\n",
    "print(\"Enter the string:\")\n",
    "\n",
    "s=str(input())\n",
    "\n",
    "WordCount(s)\n",
    "\n",
    "\n",
    "    \n",
    "    \n",
    "\n",
    "\n",
    "\n",
    "\n",
    "\n"
   ]
  }
 ],
 "metadata": {
  "kernelspec": {
   "display_name": "Python 3",
   "language": "python",
   "name": "python3"
  },
  "language_info": {
   "codemirror_mode": {
    "name": "ipython",
    "version": 3
   },
   "file_extension": ".py",
   "mimetype": "text/x-python",
   "name": "python",
   "nbconvert_exporter": "python",
   "pygments_lexer": "ipython3",
   "version": "3.6.5"
  }
 },
 "nbformat": 4,
 "nbformat_minor": 2
}
